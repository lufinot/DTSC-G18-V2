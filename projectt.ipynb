{
 "cells": [
  {
   "cell_type": "markdown",
   "metadata": {},
   "source": [
    "# DTSC 100  Group 18 Project \n",
    "\n",
    "\n"
   ]
  },
  {
   "cell_type": "markdown",
   "metadata": {},
   "source": [
    "### INTRODUCTION\n",
    "\n",
    "Forest fires are a disaster that harms both the environment and the economy through the damage that they cause to our planet. Algeria is known to be one of the many countries that have been greatly affected by forest fires. The data set Algerian Forest Fires from the UCI Machine Learning Repository (https://archive.ics.uci.edu/ml/datasets/Algerian+Forest+Fires+Dataset++) contains attributes that were collected to determine the probability of forest fires occurring from many different factors. We are trying to answer whether or not fires can be accurately predicted by using a k-nearest neighbors classification on factors such as rain, wind speed, temperature, and humidity.\n",
    "\n",
    "The data set contains information about forest fires in two regions of Algeria, the Bejaia region that is located in the Northeast of Algeria, and the Sidi Bel-abbes region located in the Northwest of Algeria, both of these regions are combined together into one data set. We will be using the Bejaia region within this project. The data set includes 11 attributes and 1 output attribute (class). The attributes within this data set are: Day, Month, Year, Temperature, Relative Humidity (RH), Wind Speed (WS), Rain, Fine Fuel Moisture Code (FFMC), Duff Moisutre Code (DMC), Drought Code (DC), Initial Spread Index (ISI), Buildup Index (BUI), and Fire Weather Index (FWI) components. \n"
   ]
  },
  {
   "cell_type": "markdown",
   "metadata": {},
   "source": [
    "### METHOD AND RESULTS"
   ]
  },
  {
   "cell_type": "code",
   "execution_count": null,
   "metadata": {},
   "outputs": [],
   "source": [
    "#describe in written English the methods you used to perform your analysis from beginning to end that narrates the code the does the analysis."
   ]
  },
  {
   "cell_type": "markdown",
   "metadata": {},
   "source": [
    "We will be conducting our data analysis by using classification by K-nearest neighbours. The attributes we will be using are date, temp, RH, Ws, Rain, and FWI components like FFMC, DMC, DC,ISI and BUI. We chose these attributes because we think these will be the most useful in helping us predict fires. We will report the results with graphs showing whether or not there is a strong relationship between the different factors and whether or not there will be a fire, as well as an accuracy % for our classification model."
   ]
  },
  {
   "cell_type": "code",
   "execution_count": null,
   "metadata": {},
   "outputs": [],
   "source": [
    "library(tidyverse)\n",
    "library(repr)\n",
    "library(tidymodels)"
   ]
  },
  {
   "cell_type": "code",
   "execution_count": null,
   "metadata": {},
   "outputs": [],
   "source": [
    "url <- \"https://archive.ics.uci.edu/ml/machine-learning-databases/00547/Algerian_forest_fires_dataset_UPDATE.csv\"\n",
    "\n",
    "download.file(url, destfile = \"algerian_fires.csv\")\n",
    "fire_df <- read_csv(\"algerian_fires.csv\", skip = 1)\n",
    "#original data set"
   ]
  },
  {
   "cell_type": "code",
   "execution_count": null,
   "metadata": {},
   "outputs": [],
   "source": [
    "#make class as factor. turn month day year into date. \n",
    "#select all columns except fwi, month, day year\n",
    "#re order columns so date first\n",
    "# take only rows from first region\n",
    "df <- fire_df %>% \n",
    "        mutate(Classes = as.factor(Classes), date = as.Date(paste(month, day, year, sep = \".\"), format = \"%m.%d.%y\")) %>% \n",
    "        select(-FWI, -month, -year, -day) %>% \n",
    "        select(date, everything()) %>% \n",
    "        slice(1:122)\n",
    "df\n",
    "\n",
    "#make all rows except classes as numeric\n",
    "df[, 2:10] <- sapply(df[, 2:10] , as.numeric)\n",
    "\n",
    "#splitting into training and testing data\n",
    "set.seed(1)\n",
    "fire_split <- initial_split(df, prop = 0.75, strata = Classes)\n",
    "fire_train <- training(fire_split)\n",
    "fire_test <- testing(fire_split)"
   ]
  },
  {
   "cell_type": "code",
   "execution_count": null,
   "metadata": {},
   "outputs": [],
   "source": [
    "#why did we make this summary table and what does it tell the readers? \n",
    "summary(fire_train)"
   ]
  },
  {
   "cell_type": "code",
   "execution_count": null,
   "metadata": {},
   "outputs": [],
   "source": [
    "## Visualization plot examples \n",
    "#explain why we made these plots and what is the significant of using these certain predictors \n",
    "cbPalette <- c(\"#E69F00\", \"#56B4E9\", \"#009E73\", \"#F0E442\", \"#0072B2\", \"#D55E00\", \"#CC79A7\", \"#999999\")\n",
    "Temp_RH_plot <- ggplot(fire_train, aes(x = Temperature, y = RH, colour = Classes)) + \n",
    "                geom_point() + \n",
    "                labs(x = \"Max Temperature at noon (Celsius degrees)\", y = \"Relative Humidity (%)\", color = \"Fire?\") + \n",
    "                scale_color_manual(values = cbPalette) +\n",
    "                theme(text = element_text(size = 14))\n",
    "\n",
    "\n",
    "Temp_RH_plot\n",
    "\n",
    "WS_Rain_plot <- ggplot(fire_train, aes(x = Ws, y = Rain, colour = Classes)) + \n",
    "                geom_point() + \n",
    "                labs(x = \"Wind speed (km/h)\", y = \"Total Rain per day (mm)\", color = \"Fire?\") + \n",
    "                scale_color_manual(values = cbPalette) + \n",
    "                theme(text = element_text(size = 14))\n",
    "\n",
    "\n",
    "WS_Rain_plot"
   ]
  },
  {
   "cell_type": "code",
   "execution_count": null,
   "metadata": {},
   "outputs": [],
   "source": [
    "### Evaluation of Temperature and Relative Humidity \n",
    "set.seed(1738)\n",
    "fire_training_vfold <- vfold_cv(fire_train, v = 30, strata = Classes)\n",
    "\n",
    "knn_tune <- nearest_neighbor(weight_func = \"rectangular\", neighbors = tune()) %>%\n",
    "       set_engine(\"kknn\") %>%\n",
    "      set_mode(\"classification\") \n",
    "\n",
    "fire_recipe <- recipe(Classes ~ Rain + RH + Ws + Temperature,  data = fire_train) %>%\n",
    "        step_scale(all_predictors()) %>%\n",
    "        step_center(all_predictors()) \n",
    "\n",
    "\n",
    "cross_val_metrics <- workflow() %>%\n",
    "                add_recipe(fire_recipe) %>%\n",
    "                add_model(knn_tune) %>%\n",
    "                tune_grid(resamples = fire_training_vfold, grid = 15) %>%\n",
    "                collect_metrics()\n",
    "\n",
    "\n",
    "accuracies <- cross_val_metrics %>% \n",
    "       filter(.metric == \"accuracy\")\n",
    "\n",
    "cross_val_plot <- ggplot(accuracies, aes(x = neighbors, y = mean))+\n",
    "       geom_point() +\n",
    "       geom_line() +\n",
    "       labs(x = \"Neighbors\", y = \"Accuracy Estimate\") +\n",
    "       scale_x_continuous(breaks = seq(0, 14, by = 1)) +  # adjusting the x-axis\n",
    "       scale_y_continuous(limits = c(0.4, 1.0)) # adjusting the y-axis\n",
    "\n",
    "\n",
    "\n",
    "cross_val_plot"
   ]
  },
  {
   "cell_type": "code",
   "execution_count": null,
   "metadata": {},
   "outputs": [],
   "source": [
    "fire_spec <- nearest_neighbor(weight_func = \"rectangular\", neighbors = 13) %>%\n",
    "      set_engine(\"kknn\") %>%\n",
    "      set_mode(\"classification\")\n",
    "\n",
    "fire_fit <- workflow() %>%\n",
    "      add_recipe(fire_recipe) %>%\n",
    "      add_model(fire_spec) %>%\n",
    "      fit(data = fire_train)\n",
    "\n",
    "fire_preds <- predict(fire_fit, fire_test) %>%\n",
    "      bind_cols(fire_test)\n",
    "\n",
    "\n",
    "fire_metrics <- fire_preds %>% \n",
    "    metrics(truth = Classes, estimate = .pred_class)\n",
    "\n",
    "fire_conf_mat <- fire_preds %>% \n",
    "    conf_mat(truth = Classes, estimate = .pred_class) \n",
    "\n",
    "fire_metrics\n",
    "fire_conf_mat"
   ]
  },
  {
   "cell_type": "markdown",
   "metadata": {},
   "source": [
    "### Discussion "
   ]
  },
  {
   "cell_type": "code",
   "execution_count": null,
   "metadata": {},
   "outputs": [],
   "source": [
    "#summarize what you found\n",
    "#discuss whether this is what you expected to find?\n",
    "#discuss what impact could such findings have?\n",
    "#discuss what future questions could this lead to?"
   ]
  },
  {
   "cell_type": "markdown",
   "metadata": {},
   "source": [
    "### References "
   ]
  },
  {
   "cell_type": "code",
   "execution_count": null,
   "metadata": {},
   "outputs": [],
   "source": [
    "#At least 2 citations of literature relevant to the project (format is your choice, just be consistent across the references).\n",
    "#Make sure to cite the source of your data as well."
   ]
  },
  {
   "cell_type": "markdown",
   "metadata": {},
   "source": [
    "Faroudja ABID et al. , â€œPredicting Forest Fire in Algeria using Data Mining Techniques: Case Study of the Decision Tree Algorithmâ€, International Conference on Advanced Intelligent Systems for Sustainable Development (AI2SD 2019) , 08 - 11 July , 2019, Marrakech, Morocco."
   ]
  }
 ],
 "metadata": {
  "kernelspec": {
   "display_name": "R",
   "language": "R",
   "name": "ir"
  },
  "language_info": {
   "codemirror_mode": "r",
   "file_extension": ".r",
   "mimetype": "text/x-r-source",
   "name": "R",
   "pygments_lexer": "r",
   "version": "4.0.0"
  }
 },
 "nbformat": 4,
 "nbformat_minor": 4
}
